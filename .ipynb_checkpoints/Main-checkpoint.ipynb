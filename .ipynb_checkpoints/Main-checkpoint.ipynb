{
 "cells": [
  {
   "cell_type": "markdown",
   "metadata": {},
   "source": [
    "# Thermoelasticity-based modal damage identification"
   ]
  },
  {
   "cell_type": "markdown",
   "metadata": {},
   "source": [
    "## Import packages"
   ]
  },
  {
   "cell_type": "code",
   "execution_count": 2,
   "metadata": {},
   "outputs": [],
   "source": [
    "import numpy as np\n",
    "import matplotlib.pyplot as plt\n",
    "import pysfmov as sfmov\n",
    "#import km\n",
    "import FLife"
   ]
  },
  {
   "cell_type": "markdown",
   "metadata": {},
   "source": [
    "## Input parameters"
   ]
  },
  {
   "cell_type": "markdown",
   "metadata": {},
   "source": [
    "### Thermal video"
   ]
  },
  {
   "cell_type": "code",
   "execution_count": 2,
   "metadata": {},
   "outputs": [],
   "source": [
    "filename = './data/rec.sfmov'\n",
    "fs = 400\n",
    "\n",
    "data = sfmov.get_data(filename)\n",
    "km = 1/ (6 * 2 * 10**(-9)) * 10**-6 # stress amplitude in MPa  # Calibration Factor [Pa^-1]\n",
    "stress = data * km\n",
    "\n",
    "location = 38, 78, 5, 5 #vert mode area\n",
    "interval = [45, 65] # HZ\n",
    "df_fft = 0.1"
   ]
  },
  {
   "cell_type": "markdown",
   "metadata": {},
   "source": [
    "### Material"
   ]
  },
  {
   "cell_type": "code",
   "execution_count": 3,
   "metadata": {},
   "outputs": [],
   "source": [
    "k = 6.51 # slope endurance curve\n",
    "B = 800.26 # endurance curve "
   ]
  },
  {
   "cell_type": "markdown",
   "metadata": {},
   "source": [
    "## Computation"
   ]
  },
  {
   "cell_type": "code",
   "execution_count": 23,
   "metadata": {},
   "outputs": [],
   "source": [
    "class ThermalData():\n",
    "    \n",
    "    \n",
    "    def __init__(self, stress, location, interval, df_fft = 0.1):\n",
    "        \n",
    "        self.stress = stress\n",
    "        self.location = location\n",
    "        self.interval = interval\n",
    "        self.df_fft = df_fft\n",
    "    \n",
    "        ds = self.stress - self.stress[0,:,:] \n",
    "        N = self.stress.shape[0]\n",
    "        \n",
    "        (x, y, w, h) = self.location\n",
    "        \n",
    "        fft = (np.fft.rfft(ds, N, axis=0) * 2 / N)[:, y:(y+h), x:(x+w)]\n",
    "        freq = np.fft.rfftfreq(N, 1/fs)\n",
    "        \n",
    "        fft_avg = np.abs(np.mean(fft, axis = (1,2)))\n",
    "    \n",
    "        y_peak = np.max(fft_avg[(freq > self.interval[0]) & (freq < self.interval[1])])\n",
    "        self.x_peak = freq[np.where(fft_avg == y_peak)[0][0]]\n",
    "    \n",
    "        self.amplitude = np.mean(fft_avg[(freq >= self.x_peak - self.df_fft) & (freq <= self.x_peak + self.df_fft)])\n",
    "\n",
    "    \n",
    "    def get_natural_freq(self):\n",
    "        \n",
    "        return self.x_peak\n",
    "    \n",
    "    \n",
    "    def get_life(self, C, k, method = 'modal'):\n",
    "        \n",
    "        if method == 'modal':\n",
    "            C = B**k  # s = B * N**bas or s^k * N = C\n",
    "            return (C / self.amplitude**k) / self.x_peak \n",
    "        \n",
    "        elif method == 'TovoBenasciutti':\n",
    "            \n",
    "            \n",
    "        \n"
   ]
  },
  {
   "cell_type": "code",
   "execution_count": 24,
   "metadata": {},
   "outputs": [],
   "source": [
    "dam = ThermalData(stress, location, interval, df_fft)"
   ]
  },
  {
   "cell_type": "code",
   "execution_count": 25,
   "metadata": {},
   "outputs": [
    {
     "data": {
      "text/plain": [
       "1.028096193473253e+18"
      ]
     },
     "execution_count": 25,
     "metadata": {},
     "output_type": "execute_result"
    }
   ],
   "source": [
    "dam.get_life(B,k)"
   ]
  },
  {
   "cell_type": "markdown",
   "metadata": {},
   "source": [
    "## Endurance curve"
   ]
  },
  {
   "cell_type": "code",
   "execution_count": null,
   "metadata": {},
   "outputs": [],
   "source": [
    "N = np.linspace(1,10**8,10**8)\n",
    "s = B * N**bas\n",
    "\n",
    "plt.semilogx(N,s)\n",
    "plt.grid()\n",
    "plt.xlabel('Cycles [Log(N)]')\n",
    "plt.ylabel('Stress amplitude [MPa]')\n",
    "plt.title('Endurance curve')"
   ]
  },
  {
   "cell_type": "markdown",
   "metadata": {},
   "source": [
    "## FFT and Natural frequency\n"
   ]
  },
  {
   "cell_type": "code",
   "execution_count": null,
   "metadata": {},
   "outputs": [],
   "source": [
    "plt.figure()\n",
    "plt.semilogy(freq,fft_avg[0,:], c = 'C0')\n",
    "plt.grid()\n",
    "plt.scatter(x_peak, y_peak,s = 100, c='C3', marker = 'o')\n",
    "plt.xlabel('Frequency [Hz]')\n",
    "plt.ylabel('Amplitude [MPa]')\n",
    "plt.title('FFT')"
   ]
  },
  {
   "cell_type": "code",
   "execution_count": null,
   "metadata": {},
   "outputs": [],
   "source": []
  },
  {
   "cell_type": "code",
   "execution_count": null,
   "metadata": {},
   "outputs": [],
   "source": []
  },
  {
   "cell_type": "code",
   "execution_count": null,
   "metadata": {},
   "outputs": [],
   "source": []
  },
  {
   "cell_type": "code",
   "execution_count": 8,
   "metadata": {},
   "outputs": [
    {
     "name": "stdout",
     "output_type": "stream",
     "text": [
      "          Rainflow:  267 s\n",
      "            Dirlik:  127 s\n",
      "Tovo Benasciutti 2:  145 s\n"
     ]
    }
   ],
   "source": [
    "import FLife\n",
    "import numpy as np\n",
    "\n",
    "\n",
    "dt = 1e-4\n",
    "x = np.random.normal(scale=100, size=10000)\n",
    "\n",
    "C = 1.8e+22\n",
    "k = 7.3\n",
    "\n",
    "# Spectral data\n",
    "sd = FLife.SpectralData(input=x, dt=dt)\n",
    "\n",
    "# Rainflow reference fatigue life\n",
    "# (do not be confused here, spectral data object also holds the time domain data)\n",
    "rf = FLife.Rainflow(sd)\n",
    "\n",
    "# Spectral methods\n",
    "dirlik = FLife.Dirlik(sd)\n",
    "tb = FLife.TovoBenasciutti(sd)\n",
    "print(f'          Rainflow: {rf.get_life(C = C, k=k):4.0f} s')\n",
    "print(f'            Dirlik: {dirlik.get_life(C = C, k=k):4.0f} s')\n",
    "print(f'Tovo Benasciutti 2: {tb.get_life(C = C, k=k, method=\"method 2\"):4.0f} s')"
   ]
  },
  {
   "cell_type": "code",
   "execution_count": null,
   "metadata": {},
   "outputs": [],
   "source": []
  }
 ],
 "metadata": {
  "kernelspec": {
   "display_name": "Python 3",
   "language": "python",
   "name": "python3"
  },
  "language_info": {
   "codemirror_mode": {
    "name": "ipython",
    "version": 3
   },
   "file_extension": ".py",
   "mimetype": "text/x-python",
   "name": "python",
   "nbconvert_exporter": "python",
   "pygments_lexer": "ipython3",
   "version": "3.7.6"
  }
 },
 "nbformat": 4,
 "nbformat_minor": 4
}
