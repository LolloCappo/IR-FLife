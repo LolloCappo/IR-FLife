{
 "cells": [
  {
   "cell_type": "markdown",
   "metadata": {},
   "source": [
    "# Thermoelasticity-based modal damage identification"
   ]
  },
  {
   "cell_type": "markdown",
   "metadata": {},
   "source": [
    "## Import packages"
   ]
  },
  {
   "cell_type": "code",
   "execution_count": null,
   "metadata": {},
   "outputs": [],
   "source": [
    "import numpy as np\n",
    "import matplotlib.pyplot as plt\n",
    "import pysfmov as sfmov\n",
    "import FLife\n",
    "from tqdm import tqdm"
   ]
  },
  {
   "cell_type": "markdown",
   "metadata": {},
   "source": [
    "## Input parameters"
   ]
  },
  {
   "cell_type": "markdown",
   "metadata": {},
   "source": [
    "### Thermal video"
   ]
  },
  {
   "cell_type": "code",
   "execution_count": null,
   "metadata": {},
   "outputs": [],
   "source": [
    "k = 6.51 # slope endurance curve\n",
    "B = 800.26 # endurance curve \n",
    "C = B**k"
   ]
  },
  {
   "cell_type": "code",
   "execution_count": null,
   "metadata": {},
   "outputs": [],
   "source": [
    "filename = './data/rec.sfmov'\n",
    "fs = 400\n",
    "dt = 1 / fs\n",
    "\n",
    "data = sfmov.get_data(filename)\n",
    "km = 1.2 * 10**(-8) \n",
    "stress = 10 * (data / km ) * 10**-6 # stress amplitude in MPa\n",
    "\n",
    "location = 39,79,3,3 #vert mode area \n",
    "f = 55 # [54, 56] # HZ"
   ]
  },
  {
   "cell_type": "code",
   "execution_count": null,
   "metadata": {},
   "outputs": [],
   "source": [
    "td = ThermalData(stress, dt)"
   ]
  },
  {
   "cell_type": "code",
   "execution_count": null,
   "metadata": {},
   "outputs": [],
   "source": [
    "m = td.get_life(C, k, 'Modal', f = f, location = location, f_span = 0.1)\n",
    "tb = td.get_life(C, k, 'TovoBenasciutti', location = location)\n",
    "d = td.get_life(C, k, 'Dirlik', location = location)\n",
    "r = td.get_life(C, k, 'Rainflow', location = location)"
   ]
  },
  {
   "cell_type": "code",
   "execution_count": null,
   "metadata": {},
   "outputs": [],
   "source": [
    "print(f'          Rainflow: {r:4.0f} s')\n",
    "print(f'            Dirlik: {d:4.0f} s')\n",
    "print(f'  Tovo-Benasciutti: {tb:4.0f} s')\n",
    "print(f'             Modal: {m:4.0f} s')"
   ]
  },
  {
   "cell_type": "code",
   "execution_count": null,
   "metadata": {},
   "outputs": [],
   "source": [
    "tb = td.get_life(C, k, 'TovoBenasciutti')\n",
    "m = td.get_life(C, k, 'Modal', f = f)"
   ]
  },
  {
   "cell_type": "code",
   "execution_count": null,
   "metadata": {},
   "outputs": [],
   "source": [
    "plt.figure()\n",
    "plt.imshow(m)\n",
    "plt.colorbar()\n",
    "plt.clim(1e10,1e19)"
   ]
  },
  {
   "cell_type": "markdown",
   "metadata": {},
   "source": [
    "## Computation"
   ]
  },
  {
   "cell_type": "code",
   "execution_count": null,
   "metadata": {},
   "outputs": [],
   "source": [
    "class ThermalData():\n",
    "        \n",
    "    def __init__(self, x, dt):\n",
    "        \n",
    "        self.x = x\n",
    "        self.dt = dt\n",
    "    \n",
    "    def _find_nearest(self, array, value):\n",
    "        \n",
    "        array = np.asarray(array)\n",
    "        idx = (np.abs(array - value)).argmin()\n",
    "        \n",
    "        return array[idx], idx\n",
    "    \n",
    "    def get_life(self, C, k, method = None, f = None, location = None, f_span = None):\n",
    "        \n",
    "        if method == None:\n",
    "            method = 'TovoBenasciutti'\n",
    "            \n",
    "        if f_span == 0:\n",
    "            raise ValueError('Frequency span around natural frequency must not be zero: set it to \"None\" or to a float value.')\n",
    "            \n",
    "        if method not in ['Modal', 'TovoBenasciutti', 'Dirlik', 'Rainflow']:\n",
    "            raise ValueError('Method must be one of: Modal, TovoBenasciutti, Dirlik, Rainflow')\n",
    "        \n",
    "        N = self.x.shape[0]\n",
    "        dt = 1 / fs\n",
    "        ds = self.x - self.x[0,:,:]\n",
    "        \n",
    "        if location is not None:\n",
    "            (x, y, w, h) = location    \n",
    "            ds = ds[:, y:(y+h), x:(x+w)]\n",
    "        \n",
    "        life = np.zeros(shape=(ds.shape[1], ds.shape[2]))\n",
    "        npixels = ds.shape[1] * ds.shape[2]  \n",
    "        \n",
    "        if method == 'Modal':\n",
    "            \n",
    "            if f == None:\n",
    "                raise ValueError('Natural frequency must be defined')\n",
    "                \n",
    "            with tqdm(total = npixels) as pbar:   \n",
    "                for i in range(ds.shape[1]):\n",
    "                    for j in range(ds.shape[2]):    \n",
    "                        \n",
    "                        fft  = np.abs(np.fft.rfft(ds[:,i,j], N) * 2 / N)\n",
    "                        freq = np.fft.rfftfreq(N, 1/fs)\n",
    "            \n",
    "                        if f_span is not None:\n",
    "                            x_peak = freq[(freq >= f - f_span) & (freq <= f + f_span)]\n",
    "                            y_peak = fft[(freq >= f - f_span) & (freq <= f + f_span)]\n",
    "                            damage = np.sum(x_peak / (C / y_peak**k))\n",
    "                            \n",
    "                        else:\n",
    "                            x_peak = self._find_nearest(freq, f)[0]    \n",
    "                            y_peak = fft[self._find_nearest(freq, f)[1]]    \n",
    "                            damage = x_peak / (C / y_peak**k)\n",
    "            \n",
    "                        life[i,j] = 1 / damage\n",
    "                        pbar.update(1)\n",
    "        \n",
    "        elif method == 'TovoBenasciutti':\n",
    "            \n",
    "            with tqdm(total = npixels) as pbar:\n",
    "                for i in range(ds.shape[1]):\n",
    "                    for j in range(ds.shape[2]):\n",
    "                        \n",
    "                        tb = FLife.TovoBenasciutti(FLife.SpectralData(ds[:,i,j], self.dt))\n",
    "                        life[i,j] = tb.get_life(C = C, k = k, method = \"method 2\")\n",
    "                        pbar.update(1)\n",
    "                    \n",
    "        elif method == 'Dirlik':\n",
    "            \n",
    "            with tqdm(total = npixels) as pbar:\n",
    "                for i in range(ds.shape[1]):\n",
    "                    for j in range(ds.shape[2]):\n",
    "                        \n",
    "                        dirlik = FLife.Dirlik(FLife.SpectralData(ds[:,i,j], self.dt))\n",
    "                        life[i,j] = dirlik.get_life(C = C, k = k)\n",
    "                        pbar.update(1)\n",
    "                    \n",
    "        elif method == 'Rainflow':\n",
    "            \n",
    "            with tqdm(total = npixels) as pbar:    \n",
    "                for i in range(ds.shape[1]):\n",
    "                    for j in range(ds.shape[2]):\n",
    "                        \n",
    "                        rf = FLife.Rainflow(FLife.SpectralData(ds[:,i,j], self.dt))\n",
    "                        life[i,j] = rf.get_life(C = C, k = k)\n",
    "                        pbar.update(1)\n",
    "\n",
    "        if location is not None:\n",
    "            return np.mean(life, axis = (0,1))\n",
    "        else:\n",
    "            return life"
   ]
  }
 ],
 "metadata": {
  "kernelspec": {
   "display_name": "Python 3",
   "language": "python",
   "name": "python3"
  },
  "language_info": {
   "codemirror_mode": {
    "name": "ipython",
    "version": 3
   },
   "file_extension": ".py",
   "mimetype": "text/x-python",
   "name": "python",
   "nbconvert_exporter": "python",
   "pygments_lexer": "ipython3",
   "version": "3.7.6"
  }
 },
 "nbformat": 4,
 "nbformat_minor": 4
}
