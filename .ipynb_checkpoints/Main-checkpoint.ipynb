{
 "cells": [
  {
   "cell_type": "markdown",
   "metadata": {},
   "source": [
    "# Thermoelasticity-based modal damage identification"
   ]
  },
  {
   "cell_type": "markdown",
   "metadata": {},
   "source": [
    "## Import packages"
   ]
  },
  {
   "cell_type": "code",
   "execution_count": 1,
   "metadata": {},
   "outputs": [],
   "source": [
    "import numpy as np\n",
    "import matplotlib.pyplot as plt\n",
    "import pysfmov as sfmov\n",
    "#import km\n",
    "import FLife"
   ]
  },
  {
   "cell_type": "markdown",
   "metadata": {},
   "source": [
    "## Input parameters"
   ]
  },
  {
   "cell_type": "markdown",
   "metadata": {},
   "source": [
    "### Thermal video"
   ]
  },
  {
   "cell_type": "code",
   "execution_count": 2,
   "metadata": {},
   "outputs": [],
   "source": [
    "filename = './data/rec.sfmov'\n",
    "fs = 400\n",
    "dt = 1 / fs\n",
    "\n",
    "data = sfmov.get_data(filename)\n",
    "km = 1/ (6 * 2 * 10**(-9)) * 10**-6 # stress amplitude in MPa  # Calibration Factor [Pa^-1]\n",
    "stress = data * km\n",
    "\n",
    "location = 38, 78, 5, 5 #vert mode area\n",
    "interval = [45, 65] # HZ\n",
    "df_fft = 0.1"
   ]
  },
  {
   "cell_type": "markdown",
   "metadata": {},
   "source": [
    "### Material"
   ]
  },
  {
   "cell_type": "code",
   "execution_count": 3,
   "metadata": {},
   "outputs": [
    {
     "data": {
      "text/plain": [
       "(8799, 128, 160)"
      ]
     },
     "execution_count": 3,
     "metadata": {},
     "output_type": "execute_result"
    }
   ],
   "source": [
    "stress.shape"
   ]
  },
  {
   "cell_type": "code",
   "execution_count": 4,
   "metadata": {},
   "outputs": [],
   "source": [
    "k = 6.51 # slope endurance curve\n",
    "B = 800.26 # endurance curve \n",
    "C = B**k"
   ]
  },
  {
   "cell_type": "code",
   "execution_count": 5,
   "metadata": {},
   "outputs": [],
   "source": [
    "(x, y, w, h) = location"
   ]
  },
  {
   "cell_type": "code",
   "execution_count": 6,
   "metadata": {},
   "outputs": [],
   "source": [
    "data = stress[:, y:(y+h), x:(x+w)]"
   ]
  },
  {
   "cell_type": "code",
   "execution_count": 43,
   "metadata": {
    "scrolled": true
   },
   "outputs": [],
   "source": [
    "sd = {}\n",
    "\n",
    "for i in range(w):\n",
    "    for j in range(h):\n",
    "        sd[i,j] = FLife.SpectralData(input=data[:,i,j], dt = dt)"
   ]
  },
  {
   "cell_type": "code",
   "execution_count": 50,
   "metadata": {},
   "outputs": [
    {
     "data": {
      "text/plain": [
       "<FLife.freq_domain.tovo_benasciutti.TovoBenasciutti at 0x28e02518a48>"
      ]
     },
     "execution_count": 50,
     "metadata": {},
     "output_type": "execute_result"
    }
   ],
   "source": [
    "tb."
   ]
  },
  {
   "cell_type": "code",
   "execution_count": 52,
   "metadata": {},
   "outputs": [],
   "source": [
    "tb= FLife.TovoBenasciutti(sd[0,0])"
   ]
  },
  {
   "cell_type": "code",
   "execution_count": 53,
   "metadata": {},
   "outputs": [
    {
     "data": {
      "text/plain": [
       "108225533418.48532"
      ]
     },
     "execution_count": 53,
     "metadata": {},
     "output_type": "execute_result"
    }
   ],
   "source": [
    "tb.get_life(C = C, k = k, method = \"method 2\")"
   ]
  },
  {
   "cell_type": "code",
   "execution_count": null,
   "metadata": {},
   "outputs": [],
   "source": [
    "td = ThermalData(stress, dt)\n",
    "td.get_life(C, k, 'Dirlik')"
   ]
  },
  {
   "cell_type": "markdown",
   "metadata": {},
   "source": [
    "## Computation"
   ]
  },
  {
   "cell_type": "code",
   "execution_count": null,
   "metadata": {},
   "outputs": [],
   "source": []
  },
  {
   "cell_type": "code",
   "execution_count": null,
   "metadata": {},
   "outputs": [],
   "source": [
    "class ThermalData():\n",
    "    \n",
    "    \n",
    "    def __init__(self, x, dt):\n",
    "        \n",
    "        self.x = x\n",
    "        self.dt = dt\n",
    "    \n",
    "    def get_life(self, C, k, method = None, location = None, interval = None, df_fft = 0.1):\n",
    "        \n",
    "        N = self.x.shape[0]\n",
    "        dt = 1 / fs\n",
    "        ds = self.x - self.x[0,:,:]\n",
    "        \n",
    "        if method == 'Modal':\n",
    "            \n",
    "            if location == None:\n",
    "                raise ValueError('Location must be defined')\n",
    "            if interval == None:\n",
    "                raise ValueError('Frequency interval must be defined')\n",
    "                \n",
    "            (x, y, w, h) = location\n",
    "            data = ds[:, y:(y+h), x:(x+w)]\n",
    "\n",
    "            fft  = np.fft.rfft(data, N, axis=0) * 2 / N\n",
    "            freq = np.fft.rfftfreq(N, 1/fs)\n",
    "            \n",
    "            fft_avg = np.abs(np.mean(fft, axis = (1,2)))\n",
    "        \n",
    "            y_peak = np.max(fft_avg[(freq > self.interval[0]) & (freq < self.interval[1])])\n",
    "            self.x_peak = freq[np.where(fft_avg == y_peak)[0][0]]\n",
    "        \n",
    "            self.amplitude = np.mean(fft_avg[(freq >= self.x_peak - self.df_fft) & (freq <= self.x_peak + self.df_fft)])\n",
    "            \n",
    "            return (C / self.amplitude**k) / self.x_peak \n",
    "        \n",
    "        else:\n",
    "            \n",
    "            if location is not None:\n",
    "                data = ds[:, y:(y+h), x:(x+w)]\n",
    "                \n",
    "            td = {}\n",
    "            tb = {}\n",
    "            dirlik = {}\n",
    "            rf = {} \n",
    "            life = {}\n",
    "            \n",
    "            for i in range(data.shape[1]):\n",
    "                   for j in range(data.shape[2]):\n",
    "                        td[i,j] = FLife.SpectralData(self.data[j,j], self.dt)\n",
    "                        \n",
    "                        if method == 'TovoBenasciutti':\n",
    "                            tb[i,j] = FLife.TovoBenasciutti(td[i,j])\n",
    "                            life[i,j] = tb.get_life(C = C, k = k, method = \"method 2\")\n",
    "                \n",
    "                        elif method == 'Dirlik':\n",
    "                            dirlik[i,j] = FLife.Dirlik(td[i,j])\n",
    "                            life[i,j] = dirlik.get_life(C = C, k = k)\n",
    "            \n",
    "                        elif method == 'Rainflow':\n",
    "                            rf[i,j] = FLife.Rainflow(td[i,j])\n",
    "                           life[i,j] = rf.get_life(C = C, k = k)\n",
    "                \n",
    "                return life\n",
    "            \n",
    "            def get_nat_freq(self):\n",
    "                return self.xpeak"
   ]
  },
  {
   "cell_type": "markdown",
   "metadata": {},
   "source": [
    "## FFT and Natural frequency\n"
   ]
  },
  {
   "cell_type": "code",
   "execution_count": null,
   "metadata": {},
   "outputs": [],
   "source": [
    "import FLife\n",
    "import numpy as np\n",
    "\n",
    "\n",
    "dt = 1e-4\n",
    "x = np.random.normal(scale=100, size=10000)\n",
    "\n",
    "C = 1.8e+22\n",
    "k = 7.3\n",
    "\n",
    "# Spectral data\n",
    "sd = FLife.SpectralData(input=x, dt=dt)\n",
    "\n",
    "rf = FLife.Rainflow(sd)\n",
    "dirlik = FLife.Dirlik(sd)\n",
    "tb = FLife.TovoBenasciutti(sd)\n",
    "\n",
    "print(f'          Rainflow: {rf.get_life(C = C, k=k):4.0f} s')\n",
    "print(f'            Dirlik: {dirlik.get_life(C = C, k=k):4.0f} s')\n",
    "print(f'Tovo Benasciutti 2: {tb.get_life(C = C, k=k, method=\"method 2\"):4.0f} s')"
   ]
  },
  {
   "cell_type": "code",
   "execution_count": null,
   "metadata": {},
   "outputs": [],
   "source": []
  }
 ],
 "metadata": {
  "kernelspec": {
   "display_name": "Python 3",
   "language": "python",
   "name": "python3"
  },
  "language_info": {
   "codemirror_mode": {
    "name": "ipython",
    "version": 3
   },
   "file_extension": ".py",
   "mimetype": "text/x-python",
   "name": "python",
   "nbconvert_exporter": "python",
   "pygments_lexer": "ipython3",
   "version": "3.7.6"
  }
 },
 "nbformat": 4,
 "nbformat_minor": 4
}
