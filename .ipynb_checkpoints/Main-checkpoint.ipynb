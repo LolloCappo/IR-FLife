{
 "cells": [
  {
   "cell_type": "code",
   "execution_count": 2,
   "metadata": {},
   "outputs": [],
   "source": [
    "import numpy as np\n",
    "import matplotlib.pyplot as plt\n",
    "import pyLIA as lia\n",
    "import pysfmov as sfmov"
   ]
  },
  {
   "cell_type": "code",
   "execution_count": null,
   "metadata": {},
   "outputs": [],
   "source": [
    "fs = 400\n",
    "(x,y,w,h) = 38,78,5,5 #vert mode area"
   ]
  },
  {
   "cell_type": "code",
   "execution_count": null,
   "metadata": {},
   "outputs": [],
   "source": [
    "k = 6.51 # slope endurance curve\n",
    "bas = -1/k\n",
    "B = 800.26\n",
    "C = B**k  # s = B * N**bas or s^k * N = C"
   ]
  },
  {
   "cell_type": "code",
   "execution_count": 3,
   "metadata": {},
   "outputs": [],
   "source": [
    "filename = './data/rec.sfmov'\n",
    "data = sfmov.get_data(filename)"
   ]
  },
  {
   "cell_type": "code",
   "execution_count": 4,
   "metadata": {},
   "outputs": [],
   "source": [
    "nframes = data.shape[0]\n",
    "dt = 1/sampling_freq\n",
    "time = np.linspace(0,nframes/fs, nframes, endpoint=True)"
   ]
  },
  {
   "cell_type": "code",
   "execution_count": null,
   "metadata": {},
   "outputs": [],
   "source": [
    "temp_ampl = data - data[0,:,:]"
   ]
  },
  {
   "cell_type": "code",
   "execution_count": null,
   "metadata": {},
   "outputs": [],
   "source": [
    "km = 1/ (6 * 2 * 10**(-9))  # Calibration Factor [Pa^-1]\n",
    "stress_ampl = temp_ampl * km * 10**-6 # stress amplitude in MPa"
   ]
  },
  {
   "cell_type": "markdown",
   "metadata": {},
   "source": [
    "# FFT"
   ]
  },
  {
   "cell_type": "code",
   "execution_count": null,
   "metadata": {},
   "outputs": [],
   "source": [
    "sig = stress_ampl\n",
    "FFT = np.fft.rfft(sig,nframes-1,axis=0) *2/(nframes-1)\n",
    "freq = np.fft.rfftfreq(nframes-1,1/sampling_freq)\n",
    "\n",
    "FFT = FFT[:,y:(y+h),x:(x+w)]\n",
    "FFT_avg = np.zeros((1,FFT.shape[0]))\n",
    "for p in range(0,len(freq)):\n",
    "    FFT_avg[0,p] = np.mean(np.abs(FFT[p,:,:]))"
   ]
  },
  {
   "cell_type": "code",
   "execution_count": null,
   "metadata": {},
   "outputs": [],
   "source": []
  },
  {
   "cell_type": "markdown",
   "metadata": {},
   "source": [
    "# Damage"
   ]
  },
  {
   "cell_type": "code",
   "execution_count": null,
   "metadata": {},
   "outputs": [],
   "source": [
    "n1 = 33\n",
    "n2 = 55\n",
    "s1 = A1\n",
    "s2 = A2\n",
    "N1 = C / s1**k\n",
    "N2 = C / s2**k\n",
    "D1 = n1 / N1\n",
    "D2 = n2 / N2\n",
    "D = D1 + D2\n",
    "D"
   ]
  },
  {
   "cell_type": "code",
   "execution_count": null,
   "metadata": {},
   "outputs": [],
   "source": [
    "#N = np.linspace(0,10**8,num = 10**8)\n",
    "#s = B * N**bas\n",
    "\n",
    "# %matplotlib notebook\n",
    "# plt.semilogx(N,s)\n",
    "# plt.grid()\n",
    "# plt.xlabel('Cycles [Log(N)]')\n",
    "# plt.ylabel('Stress amplitude [MPa]')\n",
    "# plt.title('Endurance curve')"
   ]
  }
 ],
 "metadata": {
  "kernelspec": {
   "display_name": "Python 3",
   "language": "python",
   "name": "python3"
  },
  "language_info": {
   "codemirror_mode": {
    "name": "ipython",
    "version": 3
   },
   "file_extension": ".py",
   "mimetype": "text/x-python",
   "name": "python",
   "nbconvert_exporter": "python",
   "pygments_lexer": "ipython3",
   "version": "3.7.6"
  }
 },
 "nbformat": 4,
 "nbformat_minor": 4
}
