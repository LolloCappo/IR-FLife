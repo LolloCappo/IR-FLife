{
 "cells": [
  {
   "cell_type": "markdown",
   "metadata": {},
   "source": [
    "# Thermoelasticity-based modal damage identification"
   ]
  },
  {
   "cell_type": "markdown",
   "metadata": {},
   "source": [
    "## Import packages"
   ]
  },
  {
   "cell_type": "code",
   "execution_count": 7,
   "metadata": {},
   "outputs": [],
   "source": [
    "import numpy as np\n",
    "import matplotlib.pyplot as plt\n",
    "import pysfmov as sfmov\n",
    "#import km"
   ]
  },
  {
   "cell_type": "markdown",
   "metadata": {},
   "source": [
    "## Input parameters"
   ]
  },
  {
   "cell_type": "markdown",
   "metadata": {},
   "source": [
    "### Thermal video"
   ]
  },
  {
   "cell_type": "code",
   "execution_count": 27,
   "metadata": {},
   "outputs": [],
   "source": [
    "filename = './data/rec.sfmov'\n",
    "fs = 400\n",
    "location = 38, 78, 5, 5 #vert mode area\n",
    "span = [45, 65] # HZ\n",
    "span_fft = 0.1"
   ]
  },
  {
   "cell_type": "markdown",
   "metadata": {},
   "source": [
    "### Material"
   ]
  },
  {
   "cell_type": "code",
   "execution_count": 21,
   "metadata": {},
   "outputs": [],
   "source": [
    "k = 6.51 # slope endurance curve\n",
    "B = 800.26 # endurance curve \n",
    "km = 1/ (6 * 2 * 10**(-9)) * 10**-6 # stress amplitude in MPa  # Calibration Factor [Pa^-1]"
   ]
  },
  {
   "cell_type": "code",
   "execution_count": 22,
   "metadata": {},
   "outputs": [],
   "source": [
    "data = sfmov.get_data(filename)\n",
    "N = data.shape[0]\n",
    "\n",
    "stress = (data - data[0,:,:]) * km "
   ]
  },
  {
   "cell_type": "markdown",
   "metadata": {},
   "source": [
    "## Computation"
   ]
  },
  {
   "cell_type": "code",
   "execution_count": 30,
   "metadata": {},
   "outputs": [],
   "source": [
    "def therm_damage(stress, location, span, span_fft, k, B, km):\n",
    "    \n",
    "    (x, y, w, h) = location\n",
    "    \n",
    "    fft = (np.fft.rfft(stress, N, axis=0) * 2 / N)[:, y:(y+h), x:(x+w)]\n",
    "    freq = np.fft.rfftfreq(N, 1/fs)\n",
    "    \n",
    "    fft_avg = np.abs(np.mean(fft, axis = (1,2)))\n",
    "\n",
    "    y_peak = np.max(fft_avg[(freq > span[0]) & (freq < span[1])])\n",
    "    x_peak = freq[np.where(fft_avg == y_peak)[0][0]]\n",
    "\n",
    "    amplitude = np.mean(fft_avg[(freq >= x_peak-span_fft) & (freq <= x_peak+span_fft)])\n",
    "\n",
    "    C = B**k  # s = B * N**bas or s^k * N = C\n",
    "    \n",
    "    def get_nat_freq():\n",
    "        return x_peak\n",
    "    \n",
    "    return x_peak / (C / amplitude**k)"
   ]
  },
  {
   "cell_type": "code",
   "execution_count": 28,
   "metadata": {},
   "outputs": [
    {
     "data": {
      "text/plain": [
       "9.726801189271056e-19"
      ]
     },
     "execution_count": 28,
     "metadata": {},
     "output_type": "execute_result"
    }
   ],
   "source": [
    "therm_damage(stress, location, span, span_fft, k, B, km)"
   ]
  },
  {
   "cell_type": "code",
   "execution_count": null,
   "metadata": {},
   "outputs": [],
   "source": []
  },
  {
   "cell_type": "markdown",
   "metadata": {},
   "source": [
    "## Endurance curve"
   ]
  },
  {
   "cell_type": "code",
   "execution_count": null,
   "metadata": {},
   "outputs": [],
   "source": [
    "N = np.linspace(1,10**8,10**8)\n",
    "s = B * N**bas\n",
    "\n",
    "plt.semilogx(N,s)\n",
    "plt.grid()\n",
    "plt.xlabel('Cycles [Log(N)]')\n",
    "plt.ylabel('Stress amplitude [MPa]')\n",
    "plt.title('Endurance curve')"
   ]
  },
  {
   "cell_type": "markdown",
   "metadata": {},
   "source": [
    "## FFT and Natural frequency\n"
   ]
  },
  {
   "cell_type": "code",
   "execution_count": null,
   "metadata": {},
   "outputs": [],
   "source": [
    "plt.figure()\n",
    "plt.semilogy(freq,fft_avg[0,:], c = 'C0')\n",
    "plt.grid()\n",
    "plt.scatter(x_peak, y_peak,s = 100, c='C3', marker = 'o')\n",
    "plt.xlabel('Frequency [Hz]')\n",
    "plt.ylabel('Amplitude [MPa]')\n",
    "plt.title('FFT')"
   ]
  }
 ],
 "metadata": {
  "kernelspec": {
   "display_name": "Python 3",
   "language": "python",
   "name": "python3"
  },
  "language_info": {
   "codemirror_mode": {
    "name": "ipython",
    "version": 3
   },
   "file_extension": ".py",
   "mimetype": "text/x-python",
   "name": "python",
   "nbconvert_exporter": "python",
   "pygments_lexer": "ipython3",
   "version": "3.7.6"
  }
 },
 "nbformat": 4,
 "nbformat_minor": 4
}
