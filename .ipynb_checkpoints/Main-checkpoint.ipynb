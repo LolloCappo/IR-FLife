{
 "cells": [
  {
   "cell_type": "markdown",
   "metadata": {},
   "source": [
    "# Thermoelasticity-based modal damage identification"
   ]
  },
  {
   "cell_type": "markdown",
   "metadata": {},
   "source": [
    "## Import packages"
   ]
  },
  {
   "cell_type": "code",
   "execution_count": 5,
   "metadata": {},
   "outputs": [],
   "source": [
    "import numpy as np\n",
    "import matplotlib.pyplot as plt\n",
    "import pysfmov as sfmov\n",
    "from ThermalData import *"
   ]
  },
  {
   "cell_type": "markdown",
   "metadata": {},
   "source": [
    "## Input parameters"
   ]
  },
  {
   "cell_type": "markdown",
   "metadata": {},
   "source": [
    "### Thermal video"
   ]
  },
  {
   "cell_type": "code",
   "execution_count": 6,
   "metadata": {},
   "outputs": [],
   "source": [
    "k = 6.51 # slope endurance curve\n",
    "B = 800.26 # endurance curve \n",
    "C = B**k"
   ]
  },
  {
   "cell_type": "code",
   "execution_count": 7,
   "metadata": {},
   "outputs": [],
   "source": [
    "filename = './data/rec.sfmov'\n",
    "fs = 400\n",
    "dt = 1 / fs\n",
    "\n",
    "data = sfmov.get_data(filename)\n",
    "km = 1.2 * 10**(-8) \n",
    "stress = 10 * (data / km ) * 10**-6 # stress in MPa\n",
    "\n",
    "location = 39,79,3,3 #vert mode area \n",
    "f = 55 # [54, 56] # HZ\n"
   ]
  },
  {
   "cell_type": "code",
   "execution_count": 8,
   "metadata": {},
   "outputs": [],
   "source": [
    "td = ThermalData(stress, dt)"
   ]
  },
  {
   "cell_type": "code",
   "execution_count": 10,
   "metadata": {},
   "outputs": [
    {
     "ename": "NameError",
     "evalue": "name 'dt' is not defined",
     "output_type": "error",
     "traceback": [
      "\u001b[1;31m---------------------------------------------------------------------------\u001b[0m",
      "\u001b[1;31mNameError\u001b[0m                                 Traceback (most recent call last)",
      "\u001b[1;32m<ipython-input-10-e0f37d0a7203>\u001b[0m in \u001b[0;36m<module>\u001b[1;34m\u001b[0m\n\u001b[0;32m      1\u001b[0m \u001b[0mget_ipython\u001b[0m\u001b[1;33m(\u001b[0m\u001b[1;33m)\u001b[0m\u001b[1;33m.\u001b[0m\u001b[0mrun_line_magic\u001b[0m\u001b[1;33m(\u001b[0m\u001b[1;34m'matplotlib'\u001b[0m\u001b[1;33m,\u001b[0m \u001b[1;34m'qt'\u001b[0m\u001b[1;33m)\u001b[0m\u001b[1;33m\u001b[0m\u001b[1;33m\u001b[0m\u001b[0m\n\u001b[1;32m----> 2\u001b[1;33m \u001b[0mx\u001b[0m \u001b[1;33m,\u001b[0m \u001b[0m_\u001b[0m \u001b[1;33m=\u001b[0m \u001b[0mtd\u001b[0m\u001b[1;33m.\u001b[0m\u001b[0mnf_identification\u001b[0m\u001b[1;33m(\u001b[0m\u001b[1;33m)\u001b[0m\u001b[1;33m\u001b[0m\u001b[1;33m\u001b[0m\u001b[0m\n\u001b[0m",
      "\u001b[1;32m~\\Documents\\GitHub\\thermal-damage\\ThermalData.py\u001b[0m in \u001b[0;36mnf_identification\u001b[1;34m(self, location, high_pass, low_pass)\u001b[0m\n\u001b[0;32m     45\u001b[0m \u001b[1;33m\u001b[0m\u001b[0m\n\u001b[0;32m     46\u001b[0m         \u001b[0mfft\u001b[0m \u001b[1;33m=\u001b[0m \u001b[0mnp\u001b[0m\u001b[1;33m.\u001b[0m\u001b[0mabs\u001b[0m\u001b[1;33m(\u001b[0m\u001b[0mnp\u001b[0m\u001b[1;33m.\u001b[0m\u001b[0mfft\u001b[0m\u001b[1;33m.\u001b[0m\u001b[0mrfft\u001b[0m\u001b[1;33m(\u001b[0m\u001b[0mds\u001b[0m\u001b[1;33m,\u001b[0m \u001b[0mN\u001b[0m\u001b[1;33m,\u001b[0m \u001b[0maxis\u001b[0m \u001b[1;33m=\u001b[0m \u001b[1;36m0\u001b[0m\u001b[1;33m)\u001b[0m \u001b[1;33m*\u001b[0m \u001b[1;36m2\u001b[0m \u001b[1;33m/\u001b[0m \u001b[0mN\u001b[0m\u001b[1;33m)\u001b[0m\u001b[1;33m\u001b[0m\u001b[1;33m\u001b[0m\u001b[0m\n\u001b[1;32m---> 47\u001b[1;33m         \u001b[0mfreq\u001b[0m \u001b[1;33m=\u001b[0m \u001b[0mnp\u001b[0m\u001b[1;33m.\u001b[0m\u001b[0mfft\u001b[0m\u001b[1;33m.\u001b[0m\u001b[0mrfftfreq\u001b[0m\u001b[1;33m(\u001b[0m\u001b[0mN\u001b[0m\u001b[1;33m,\u001b[0m \u001b[0mdt\u001b[0m\u001b[1;33m)\u001b[0m\u001b[1;33m\u001b[0m\u001b[1;33m\u001b[0m\u001b[0m\n\u001b[0m\u001b[0;32m     48\u001b[0m \u001b[1;33m\u001b[0m\u001b[0m\n\u001b[0;32m     49\u001b[0m         \u001b[0my_peak\u001b[0m \u001b[1;33m=\u001b[0m \u001b[0mnp\u001b[0m\u001b[1;33m.\u001b[0m\u001b[0mmax\u001b[0m\u001b[1;33m(\u001b[0m\u001b[0mfft\u001b[0m\u001b[1;33m[\u001b[0m\u001b[1;33m(\u001b[0m\u001b[0mfreq\u001b[0m \u001b[1;33m>\u001b[0m \u001b[0mhigh_pass\u001b[0m\u001b[1;33m)\u001b[0m \u001b[1;33m&\u001b[0m \u001b[1;33m(\u001b[0m\u001b[0mfreq\u001b[0m \u001b[1;33m<\u001b[0m \u001b[0mlow_pass\u001b[0m\u001b[1;33m)\u001b[0m\u001b[1;33m]\u001b[0m\u001b[1;33m)\u001b[0m\u001b[1;33m\u001b[0m\u001b[1;33m\u001b[0m\u001b[0m\n",
      "\u001b[1;31mNameError\u001b[0m: name 'dt' is not defined"
     ]
    }
   ],
   "source": [
    "%matplotlib qt\n",
    "x , _ = td.nf_identification()"
   ]
  },
  {
   "cell_type": "code",
   "execution_count": null,
   "metadata": {},
   "outputs": [],
   "source": [
    "m = td.get_life(C, k, 'Modal', f = f, location = location, f_span = 0.1)\n",
    "tb = td.get_life(C, k, 'TovoBenasciutti', location = location)\n",
    "d = td.get_life(C, k, 'Dirlik', location = location)\n",
    "r = td.get_life(C, k, 'Rainflow', location = location)"
   ]
  },
  {
   "cell_type": "code",
   "execution_count": null,
   "metadata": {},
   "outputs": [],
   "source": [
    "print(f'          Rainflow: {r:4.0f} s')\n",
    "print(f'            Dirlik: {d:4.0f} s')\n",
    "print(f'  Tovo-Benasciutti: {tb:4.0f} s')\n",
    "print(f'             Modal: {m:4.0f} s')"
   ]
  },
  {
   "cell_type": "code",
   "execution_count": null,
   "metadata": {},
   "outputs": [],
   "source": [
    "tb = td.get_life(C, k, 'TovoBenasciutti')\n",
    "m = td.get_life(C, k, 'Modal', f = f)"
   ]
  },
  {
   "cell_type": "code",
   "execution_count": null,
   "metadata": {},
   "outputs": [],
   "source": [
    "plt.figure()\n",
    "plt.imshow(m)\n",
    "plt.colorbar()\n",
    "plt.clim(1e10,1e19)"
   ]
  },
  {
   "cell_type": "code",
   "execution_count": null,
   "metadata": {},
   "outputs": [],
   "source": [
    "import numpy as np\n",
    "import matplotlib.pyplot as plt \n",
    "from tqdm import tqdm\n",
    "import FLife\n",
    "\n",
    "\n",
    "\n",
    "class ThermalData():\n",
    "        \n",
    "    def __init__(self, x, dt):\n",
    "        \n",
    "        self.x = x\n",
    "        self.dt = dt\n",
    "\n",
    "        self.N = self.x.shape[0]\n",
    "        self.self.ds = self.x - self.x[0,:,:]\n",
    "    \n",
    "    def _find_nearest(self, array, value):\n",
    "        \n",
    "        array = np.asarray(array)\n",
    "        idx = (np.abs(array - value)).argmin()\n",
    "        \n",
    "        return array[idx], idx\n",
    "    \n",
    "    def _pixel_selection(self, event):\n",
    "        \n",
    "        global ix, iy\n",
    "        ix, iy = event.xdata, event.ydata\n",
    "        plt.close()\n",
    "    \n",
    "    def nf_identification(self, location = None, high_pass = 5, low_pass = 100) :\n",
    "                \n",
    "        if location is None:\n",
    "            global ix, iy\n",
    "            fig = plt.figure()\n",
    "            ax = fig.add_subplot(111)\n",
    "            ax.imshow(self.x[0,:,:])\n",
    "            fig.canvas.mpl_connect('button_press_event', self._pixel_selection)\n",
    "            plt.show()\n",
    "            (x, y, w, h) = (int(ix) - 2, int(iy) - 2, 5, 5)\n",
    "        else:\n",
    "            (x, y, w, h) = location    \n",
    "        \n",
    "        self.ds = self.ds[:, y:(y+h), x:(x+w)]\n",
    "                \n",
    "        fft = np.abs(np.fft.rfft(self.ds, self.N, axis = 0) * 2 / self.N)\n",
    "        freq = np.fft.rfftfreq(self.N, self.dt)\n",
    "        \n",
    "        y_peak = np.max(fft[(freq > high_pass) & (freq < low_pass)])\n",
    "        x_peak = freq[np.where(fft == y_peak)[0][0]]\n",
    "                        \n",
    "        return x_peak, y_peak\n",
    "    \n",
    "    def get_life(self, C, k, method = None, f = None, location = None, f_span = None):\n",
    "        \n",
    "        if method == None:\n",
    "            method = 'TovoBenasciutti'\n",
    "            \n",
    "        if f_span == 0:\n",
    "            raise ValueError('Frequency span around natural frequency must not be zero: set it to \"None\" or to a float value.')\n",
    "            \n",
    "        if method not in ['Modal', 'TovoBenasciutti', 'Dirlik', 'Rainflow']:\n",
    "            raise ValueError('Method must be one of: Modal, TovoBenasciutti, Dirlik, Rainflow')\n",
    "        \n",
    "        if location is not None:\n",
    "            (x, y, w, h) = location    \n",
    "            self.ds = self.ds[:, y:(y+h), x:(x+w)]\n",
    "        \n",
    "        life = np.zeros(shape=(self.ds.shape[1], self.ds.shape[2]))\n",
    "        npixels = self.ds.shape[1] * self.ds.shape[2]  \n",
    "        \n",
    "        if method == 'Modal':\n",
    "            \n",
    "            if f == None:\n",
    "                raise ValueError('Natural frequency must be defined')\n",
    "                \n",
    "            with tqdm(total = npixels) as pbar:   \n",
    "                for i in range(self.ds.shape[1]):\n",
    "                    for j in range(self.ds.shape[2]):    \n",
    "                        \n",
    "                        fft  = np.abs(np.fft.rfft(self.ds[:,i,j], self.N) * 2 / self.N)\n",
    "                        freq = np.fft.rfftfreq(self.N, self.dt)\n",
    "            \n",
    "                        if f_span is not None:\n",
    "                            x_peak = freq[(freq >= f - f_span) & (freq <= f + f_span)]\n",
    "                            y_peak = fft[(freq >= f - f_span) & (freq <= f + f_span)]\n",
    "                            damage = np.sum(x_peak / (C / y_peak**k))\n",
    "                            \n",
    "                        else:\n",
    "                            x_peak = self._find_nearest(freq, f)[0]    \n",
    "                            y_peak = fft[self._find_nearest(freq, f)[1]]    \n",
    "                            damage = x_peak / (C / y_peak**k)\n",
    "            \n",
    "                        life[i,j] = 1 / damage\n",
    "                        pbar.update(1)\n",
    "        \n",
    "        elif method == 'TovoBenasciutti':\n",
    "            \n",
    "            with tqdm(total = npixels) as pbar:\n",
    "                for i in range(self.ds.shape[1]):\n",
    "                    for j in range(self.ds.shape[2]):\n",
    "                        \n",
    "                        tb = FLife.TovoBenasciutti(FLife.SpectralData(self.ds[:,i,j], self.dt))\n",
    "                        life[i,j] = tb.get_life(C = C, k = k, method = \"method 2\")\n",
    "                        pbar.update(1)\n",
    "                    \n",
    "        elif method == 'Dirlik':\n",
    "            \n",
    "            with tqdm(total = npixels) as pbar:\n",
    "                for i in range(self.ds.shape[1]):\n",
    "                    for j in range(self.ds.shape[2]):\n",
    "                        \n",
    "                        dirlik = FLife.Dirlik(FLife.SpectralData(self.ds[:,i,j], self.dt))\n",
    "                        life[i,j] = dirlik.get_life(C = C, k = k)\n",
    "                        pbar.update(1)\n",
    "                    \n",
    "        elif method == 'Rainflow':\n",
    "            \n",
    "            with tqdm(total = npixels) as pbar:    \n",
    "                for i in range(self.ds.shape[1]):\n",
    "                    for j in range(self.ds.shape[2]):\n",
    "                        \n",
    "                        rf = FLife.Rainflow(FLife.SpectralData(self.ds[:,i,j], self.dt))\n",
    "                        life[i,j] = rf.get_life(C = C, k = k)\n",
    "                        pbar.update(1)\n",
    "\n",
    "        if location is not None:\n",
    "            return np.mean(life, axis = (0,1))\n",
    "        else:\n",
    "            return life"
   ]
  }
 ],
 "metadata": {
  "kernelspec": {
   "display_name": "Python 3",
   "language": "python",
   "name": "python3"
  },
  "language_info": {
   "codemirror_mode": {
    "name": "ipython",
    "version": 3
   },
   "file_extension": ".py",
   "mimetype": "text/x-python",
   "name": "python",
   "nbconvert_exporter": "python",
   "pygments_lexer": "ipython3",
   "version": "3.7.6"
  }
 },
 "nbformat": 4,
 "nbformat_minor": 4
}
