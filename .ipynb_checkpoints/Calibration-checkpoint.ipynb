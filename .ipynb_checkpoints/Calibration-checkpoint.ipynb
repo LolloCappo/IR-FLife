{
 "cells": [
  {
   "cell_type": "code",
   "execution_count": 6,
   "metadata": {},
   "outputs": [],
   "source": [
    "import numpy as np\n",
    "import matplotlib.pyplot as plt\n",
    "import pyLIA\n",
    "import pysfmov as sfmov"
   ]
  },
  {
   "cell_type": "code",
   "execution_count": 7,
   "metadata": {},
   "outputs": [],
   "source": [
    "E = 75*10**9# Pa Young Modulus\n",
    "ni = 0.33 # Poisson ratio"
   ]
  },
  {
   "cell_type": "code",
   "execution_count": 15,
   "metadata": {},
   "outputs": [],
   "source": [
    "filename = './data/rec44.sfmov'\n",
    "data = sfmov.get_data(filename)\n",
    "fs = 400\n",
    "fl = 40\n",
    "location = 56,38,30,70 # strain gauge area\n",
    "eps = np.random.rand(1000,3)*1e-4"
   ]
  },
  {
   "cell_type": "code",
   "execution_count": 33,
   "metadata": {},
   "outputs": [],
   "source": [
    "class calibration():\n",
    "    \n",
    "    def get_strain(eps, configuration = None):\n",
    "        \n",
    "        if eps.shape[1] == 1:\n",
    "            return np.max(eps, axis = 0)\n",
    "        \n",
    "        elif eps.shape[1] == 2:\n",
    "            return (np.max(eps[:,0]) + np.max(eps[:,1])) / 2\n",
    "        \n",
    "        elif eps.shape[1] == 3:\n",
    "            \n",
    "            if configuration == '90':\n",
    "                return np.max(eps[:,1]) - (np.max(eps[:,0]) + np.max(eps[:,2])) / 2\n",
    "        \n",
    "            elif configuration == '120':                \n",
    "                return (np.max(eps[:,0]) - np.max(eps[:,2])) / np.sqrt(3)              \n",
    "    \n",
    "    def from_material(s):\n",
    "        \n",
    "        material = {'steel' : 3.5 * 10**-12,\n",
    "                    'aluminium' : 8.8 * 10**-12,\n",
    "                    'titanium' : 3.5 * 10**-12,\n",
    "                    'epoxy' : 6.2 * 10**-11,\n",
    "                    'magnesium' : 1.4 * 10**-11,\n",
    "                    'glass' : 3.85 * 10**-12}\n",
    "        \n",
    "        return material[s]\n",
    "    \n",
    "    def from_strain_gauge(data, fs, fl, E, ni, strain, location):\n",
    "        \n",
    "        (x,y,w,h) = location\n",
    "        mag, _ = pyLIA.LIA(data,fs,fl)\n",
    "        mag_avg = np.mean(mag[y:(y+h),x:(x+w)])\n",
    "\n",
    "        return (mag_avg * (1-ni)) / (E * strain)\n",
    "    "
   ]
  }
 ],
 "metadata": {
  "kernelspec": {
   "display_name": "Python 3",
   "language": "python",
   "name": "python3"
  },
  "language_info": {
   "codemirror_mode": {
    "name": "ipython",
    "version": 3
   },
   "file_extension": ".py",
   "mimetype": "text/x-python",
   "name": "python",
   "nbconvert_exporter": "python",
   "pygments_lexer": "ipython3",
   "version": "3.7.6"
  }
 },
 "nbformat": 4,
 "nbformat_minor": 4
}
