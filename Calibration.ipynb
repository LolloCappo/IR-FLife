{
 "cells": [
  {
   "cell_type": "code",
   "execution_count": 36,
   "metadata": {},
   "outputs": [],
   "source": [
    "import numpy as np\n",
    "import matplotlib.pyplot as plt\n",
    "import pyLIA\n",
    "import pysfmov as sfmov"
   ]
  },
  {
   "cell_type": "code",
   "execution_count": 37,
   "metadata": {},
   "outputs": [],
   "source": [
    "E = 75*10**9# Pa Young Modulus\n",
    "ni = 0.33 # Poisson ratio"
   ]
  },
  {
   "cell_type": "code",
   "execution_count": 45,
   "metadata": {},
   "outputs": [],
   "source": [
    "filename = './data/rec44.sfmov'\n",
    "fs = 400\n",
    "fl = 40\n",
    "(x,y,w,h)=56,38,30,70 # strain gauge area\n",
    "D_eps = 1e-6"
   ]
  },
  {
   "cell_type": "code",
   "execution_count": 41,
   "metadata": {},
   "outputs": [],
   "source": [
    "class calibration():\n",
    "    \n",
    "    def get_material(s):\n",
    "        \n",
    "        material = {'steel' : 3.5 * 10**-12,\n",
    "                    'aluminium' : 8.8 * 10**-12,\n",
    "                    'titanium' : 3.5 * 10**-12,\n",
    "                    'epoxy' : 6.2 * 10**-11,\n",
    "                    'magnesium' : 1.4 * 10**-11,\n",
    "                    'glass' : 3.85 * 10**-12}\n",
    "        \n",
    "        return material[s]\n",
    "    def strain_gauge():\n",
    "        return\n",
    "    "
   ]
  },
  {
   "cell_type": "code",
   "execution_count": 46,
   "metadata": {},
   "outputs": [],
   "source": [
    "mag_avg = 0.04"
   ]
  },
  {
   "cell_type": "code",
   "execution_count": 44,
   "metadata": {},
   "outputs": [
    {
     "ename": "NameError",
     "evalue": "name 'pyLIA' is not defined",
     "output_type": "error",
     "traceback": [
      "\u001b[1;31m---------------------------------------------------------------------------\u001b[0m",
      "\u001b[1;31mNameError\u001b[0m                                 Traceback (most recent call last)",
      "\u001b[1;32m<ipython-input-44-c8f6dd27d247>\u001b[0m in \u001b[0;36m<module>\u001b[1;34m\u001b[0m\n\u001b[0;32m      1\u001b[0m \u001b[0mdata\u001b[0m \u001b[1;33m=\u001b[0m \u001b[0msfmov\u001b[0m\u001b[1;33m.\u001b[0m\u001b[0mget_data\u001b[0m\u001b[1;33m(\u001b[0m\u001b[0mfilename\u001b[0m\u001b[1;33m)\u001b[0m\u001b[1;33m\u001b[0m\u001b[1;33m\u001b[0m\u001b[0m\n\u001b[1;32m----> 2\u001b[1;33m \u001b[0mmag\u001b[0m\u001b[1;33m,\u001b[0m \u001b[0mph\u001b[0m \u001b[1;33m=\u001b[0m \u001b[0mpyLIA\u001b[0m\u001b[1;33m.\u001b[0m\u001b[0mLIA\u001b[0m\u001b[1;33m(\u001b[0m\u001b[0mdata\u001b[0m\u001b[1;33m,\u001b[0m\u001b[0mfs\u001b[0m\u001b[1;33m,\u001b[0m\u001b[0mfl\u001b[0m\u001b[1;33m)\u001b[0m\u001b[1;33m\u001b[0m\u001b[1;33m\u001b[0m\u001b[0m\n\u001b[0m\u001b[0;32m      3\u001b[0m \u001b[0mmag_avg\u001b[0m \u001b[1;33m=\u001b[0m \u001b[0mnp\u001b[0m\u001b[1;33m.\u001b[0m\u001b[0mmean\u001b[0m\u001b[1;33m(\u001b[0m\u001b[0mmag\u001b[0m\u001b[1;33m[\u001b[0m\u001b[0my\u001b[0m\u001b[1;33m:\u001b[0m\u001b[1;33m(\u001b[0m\u001b[0my\u001b[0m\u001b[1;33m+\u001b[0m\u001b[0mh\u001b[0m\u001b[1;33m)\u001b[0m\u001b[1;33m,\u001b[0m\u001b[0mx\u001b[0m\u001b[1;33m:\u001b[0m\u001b[1;33m(\u001b[0m\u001b[0mx\u001b[0m\u001b[1;33m+\u001b[0m\u001b[0mw\u001b[0m\u001b[1;33m)\u001b[0m\u001b[1;33m]\u001b[0m\u001b[1;33m)\u001b[0m\u001b[1;33m\u001b[0m\u001b[1;33m\u001b[0m\u001b[0m\n",
      "\u001b[1;31mNameError\u001b[0m: name 'pyLIA' is not defined"
     ]
    }
   ],
   "source": [
    "data = sfmov.get_data(filename)\n",
    "mag, ph = pyLIA.LIA(data,fs,fl)\n",
    "mag_avg = np.mean(mag[y:(y+h),x:(x+w)])"
   ]
  },
  {
   "cell_type": "code",
   "execution_count": 47,
   "metadata": {},
   "outputs": [
    {
     "data": {
      "text/plain": [
       "3.573333333333333e-07"
      ]
     },
     "execution_count": 47,
     "metadata": {},
     "output_type": "execute_result"
    }
   ],
   "source": [
    "km = (mag_avg * (1-ni)) / (E * D_eps)\n"
   ]
  },
  {
   "cell_type": "code",
   "execution_count": 49,
   "metadata": {},
   "outputs": [],
   "source": [
    "Dsigma = mag / km"
   ]
  },
  {
   "cell_type": "code",
   "execution_count": 50,
   "metadata": {},
   "outputs": [
    {
     "data": {
      "text/plain": [
       "array([[17119.20965993, 17860.94689182, 16842.44004036, ...,\n",
       "        16053.68985959, 16891.48236141, 16203.00406374],\n",
       "       [18192.38958884, 16962.95327128, 17773.03482922, ...,\n",
       "        16595.94776409, 15466.69768663, 16999.58592675],\n",
       "       [17690.74061502, 18541.28297647, 16837.24174516, ...,\n",
       "        16274.55520146, 17010.04272167, 16171.40404189],\n",
       "       ...,\n",
       "       [18007.89013521, 16278.11324937, 17270.32974021, ...,\n",
       "        19255.03398757, 18403.23399628, 17453.38275578],\n",
       "       [17450.13025412, 18933.22975498, 17632.93199945, ...,\n",
       "        16904.52718126, 17433.32038195, 16524.73616369],\n",
       "       [18942.79651517, 17638.98598487, 19012.10477193, ...,\n",
       "        16802.47261214, 17077.20950386, 16604.78396806]])"
      ]
     },
     "execution_count": 50,
     "metadata": {},
     "output_type": "execute_result"
    }
   ],
   "source": [
    "Dsigma"
   ]
  },
  {
   "cell_type": "code",
   "execution_count": null,
   "metadata": {},
   "outputs": [],
   "source": []
  }
 ],
 "metadata": {
  "kernelspec": {
   "display_name": "Python 3",
   "language": "python",
   "name": "python3"
  },
  "language_info": {
   "codemirror_mode": {
    "name": "ipython",
    "version": 3
   },
   "file_extension": ".py",
   "mimetype": "text/x-python",
   "name": "python",
   "nbconvert_exporter": "python",
   "pygments_lexer": "ipython3",
   "version": "3.7.6"
  }
 },
 "nbformat": 4,
 "nbformat_minor": 4
}
