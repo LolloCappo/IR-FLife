{
 "cells": [
  {
   "cell_type": "code",
   "execution_count": 7,
   "metadata": {},
   "outputs": [],
   "source": [
    "import numpy as np\n",
    "import matplotlib.pyplot as plt\n",
    "import pyLIA as lia\n",
    "import pysfmov as sfmov"
   ]
  },
  {
   "cell_type": "code",
   "execution_count": 8,
   "metadata": {},
   "outputs": [],
   "source": [
    "filename = './data/rec.sfmov'\n",
    "fs = 400\n",
    "(x,y,w,h) = 38,78,5,5 #vert mode area\n",
    "k = 6.51 # slope endurance curve\n",
    "B = 800.26 # endurance curve\n",
    "km = 1/ (6 * 2 * 10**(-9))  # Calibration Factor [Pa^-1]"
   ]
  },
  {
   "cell_type": "code",
   "execution_count": 9,
   "metadata": {},
   "outputs": [],
   "source": []
  },
  {
   "cell_type": "code",
   "execution_count": 10,
   "metadata": {},
   "outputs": [],
   "source": [
    "\n",
    "data = sfmov.get_data(filename)"
   ]
  },
  {
   "cell_type": "code",
   "execution_count": 12,
   "metadata": {},
   "outputs": [],
   "source": [
    "nframes = data.shape[0]\n",
    "dt = 1/fs\n",
    "time = np.linspace(0,nframes/fs, nframes, endpoint=True)\n",
    "\n",
    "bas = -1/k\n",
    "C = B**k  # s = B * N**bas or s^k * N = C"
   ]
  },
  {
   "cell_type": "code",
   "execution_count": 13,
   "metadata": {},
   "outputs": [],
   "source": [
    "temp_ampl = data - data[0,:,:]"
   ]
  },
  {
   "cell_type": "code",
   "execution_count": 14,
   "metadata": {},
   "outputs": [],
   "source": [
    "\n",
    "stress_ampl = temp_ampl * km * 10**-6 # stress amplitude in MPa"
   ]
  },
  {
   "cell_type": "markdown",
   "metadata": {},
   "source": [
    "# FFT"
   ]
  },
  {
   "cell_type": "code",
   "execution_count": 16,
   "metadata": {},
   "outputs": [],
   "source": [
    "sig = stress_ampl\n",
    "FFT = np.fft.rfft(sig,nframes-1,axis=0) *2/(nframes-1)\n",
    "freq = np.fft.rfftfreq(nframes-1,1/fs)\n",
    "\n",
    "FFT = FFT[:,y:(y+h),x:(x+w)]\n",
    "FFT_avg = np.zeros((1,FFT.shape[0]))\n",
    "for p in range(0,len(freq)):\n",
    "    FFT_avg[0,p] = np.mean(np.abs(FFT[p,:,:]))"
   ]
  },
  {
   "cell_type": "code",
   "execution_count": null,
   "metadata": {},
   "outputs": [],
   "source": []
  },
  {
   "cell_type": "markdown",
   "metadata": {},
   "source": [
    "# Damage"
   ]
  },
  {
   "cell_type": "code",
   "execution_count": 18,
   "metadata": {},
   "outputs": [
    {
     "name": "stderr",
     "output_type": "stream",
     "text": [
      "C:\\Users\\Lorenzo\\anaconda3\\lib\\site-packages\\numpy\\core\\fromnumeric.py:3335: RuntimeWarning: Mean of empty slice.\n",
      "  out=out, **kwargs)\n",
      "C:\\Users\\Lorenzo\\anaconda3\\lib\\site-packages\\numpy\\core\\_methods.py:161: RuntimeWarning: invalid value encountered in double_scalars\n",
      "  ret = ret.dtype.type(ret / rcount)\n"
     ]
    }
   ],
   "source": [
    "band1 = (freq>=32)&(freq<=34)\n",
    "band2 = (freq>=54)&(freq<=56)\n",
    "A1 = np.mean(FFT_avg[0][band1])\n",
    "A2 = np.mean(FFT_avg[0][band2])"
   ]
  },
  {
   "cell_type": "code",
   "execution_count": 19,
   "metadata": {},
   "outputs": [
    {
     "data": {
      "text/plain": [
       "nan"
      ]
     },
     "execution_count": 19,
     "metadata": {},
     "output_type": "execute_result"
    }
   ],
   "source": [
    "n1 = 33\n",
    "n2 = 55\n",
    "s1 = A1\n",
    "s2 = A2\n",
    "N1 = C / s1**k\n",
    "N2 = C / s2**k\n",
    "D1 = n1 / N1\n",
    "D2 = n2 / N2\n",
    "D = D1 + D2\n",
    "D"
   ]
  },
  {
   "cell_type": "code",
   "execution_count": null,
   "metadata": {},
   "outputs": [],
   "source": [
    "#N = np.linspace(0,10**8,num = 10**8)\n",
    "#s = B * N**bas\n",
    "\n",
    "# %matplotlib notebook\n",
    "# plt.semilogx(N,s)\n",
    "# plt.grid()\n",
    "# plt.xlabel('Cycles [Log(N)]')\n",
    "# plt.ylabel('Stress amplitude [MPa]')\n",
    "# plt.title('Endurance curve')"
   ]
  }
 ],
 "metadata": {
  "kernelspec": {
   "display_name": "Python 3",
   "language": "python",
   "name": "python3"
  },
  "language_info": {
   "codemirror_mode": {
    "name": "ipython",
    "version": 3
   },
   "file_extension": ".py",
   "mimetype": "text/x-python",
   "name": "python",
   "nbconvert_exporter": "python",
   "pygments_lexer": "ipython3",
   "version": "3.7.6"
  }
 },
 "nbformat": 4,
 "nbformat_minor": 4
}
