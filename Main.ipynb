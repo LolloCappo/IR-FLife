{
 "cells": [
  {
   "cell_type": "markdown",
   "metadata": {},
   "source": [
    "# Thermoelasticity-based modal damage identification"
   ]
  },
  {
   "cell_type": "markdown",
   "metadata": {},
   "source": [
    "## Import packages"
   ]
  },
  {
   "cell_type": "code",
   "execution_count": null,
   "metadata": {},
   "outputs": [],
   "source": [
    "import numpy as np\n",
    "import matplotlib.pyplot as plt\n",
    "import pysfmov as sfmov"
   ]
  },
  {
   "cell_type": "markdown",
   "metadata": {},
   "source": [
    "## Input parameters"
   ]
  },
  {
   "cell_type": "markdown",
   "metadata": {},
   "source": [
    "### Thermal video"
   ]
  },
  {
   "cell_type": "code",
   "execution_count": null,
   "metadata": {},
   "outputs": [],
   "source": [
    "k = 6.51 # slope endurance curve\n",
    "B = 800.26 # endurance curve \n",
    "C = B**k"
   ]
  },
  {
   "cell_type": "code",
   "execution_count": null,
   "metadata": {},
   "outputs": [],
   "source": [
    "filename = './data/rec.sfmov'\n",
    "fs = 400\n",
    "dt = 1 / fs\n",
    "\n",
    "data = sfmov.get_data(filename)\n",
    "km = 1.2 * 10**(-8) \n",
    "stress = 10 * (data / km ) * 10**-6 # stress in MPa\n",
    "\n",
    "location = 39,79,3,3 #vert mode area \n",
    "f = 55 # [54, 56] # HZ\n"
   ]
  },
  {
   "cell_type": "code",
   "execution_count": null,
   "metadata": {},
   "outputs": [],
   "source": [
    "%matplotlib qt\n",
    "x , _ = td.nf_identification()"
   ]
  },
  {
   "cell_type": "code",
   "execution_count": null,
   "metadata": {},
   "outputs": [],
   "source": [
    "td = ThermalData(stress, dt)"
   ]
  },
  {
   "cell_type": "code",
   "execution_count": null,
   "metadata": {},
   "outputs": [],
   "source": [
    "m = td.get_life(C, k, 'Modal', f = f, location = location, f_span = 0.1)\n",
    "tb = td.get_life(C, k, 'TovoBenasciutti', location = location)\n",
    "d = td.get_life(C, k, 'Dirlik', location = location)\n",
    "r = td.get_life(C, k, 'Rainflow', location = location)"
   ]
  },
  {
   "cell_type": "code",
   "execution_count": null,
   "metadata": {},
   "outputs": [],
   "source": [
    "print(f'          Rainflow: {r:4.0f} s')\n",
    "print(f'            Dirlik: {d:4.0f} s')\n",
    "print(f'  Tovo-Benasciutti: {tb:4.0f} s')\n",
    "print(f'             Modal: {m:4.0f} s')"
   ]
  },
  {
   "cell_type": "code",
   "execution_count": null,
   "metadata": {},
   "outputs": [],
   "source": [
    "tb = td.get_life(C, k, 'TovoBenasciutti')\n",
    "m = td.get_life(C, k, 'Modal', f = f)"
   ]
  },
  {
   "cell_type": "code",
   "execution_count": null,
   "metadata": {},
   "outputs": [],
   "source": [
    "plt.figure()\n",
    "plt.imshow(m)\n",
    "plt.colorbar()\n",
    "plt.clim(1e10,1e19)"
   ]
  }
 ],
 "metadata": {
  "kernelspec": {
   "display_name": "Python 3",
   "language": "python",
   "name": "python3"
  },
  "language_info": {
   "codemirror_mode": {
    "name": "ipython",
    "version": 3
   },
   "file_extension": ".py",
   "mimetype": "text/x-python",
   "name": "python",
   "nbconvert_exporter": "python",
   "pygments_lexer": "ipython3",
   "version": "3.7.6"
  }
 },
 "nbformat": 4,
 "nbformat_minor": 4
}
