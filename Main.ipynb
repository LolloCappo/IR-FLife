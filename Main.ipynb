{
 "cells": [
  {
   "cell_type": "markdown",
   "metadata": {},
   "source": [
    "# Thermoelasticity-based modal damage identification"
   ]
  },
  {
   "cell_type": "markdown",
   "metadata": {},
   "source": [
    "## Import packages"
   ]
  },
  {
   "cell_type": "code",
   "execution_count": null,
   "metadata": {},
   "outputs": [],
   "source": [
    "import numpy as np\n",
    "import matplotlib.pyplot as plt\n",
    "import pysfmov as sfmov"
   ]
  },
  {
   "cell_type": "markdown",
   "metadata": {},
   "source": [
    "## Input parameters"
   ]
  },
  {
   "cell_type": "markdown",
   "metadata": {},
   "source": [
    "### Thermal video"
   ]
  },
  {
   "cell_type": "code",
   "execution_count": null,
   "metadata": {},
   "outputs": [],
   "source": [
    "filename = './data/rec44.sfmov'\n",
    "fs = 400\n",
    "(x,y,w,h) = 38,78,5,5 #vert mode area\n",
    "treshold_fft = [45 , 65] # HZ\n",
    "span_fft = 0.1"
   ]
  },
  {
   "cell_type": "markdown",
   "metadata": {},
   "source": [
    "### Material"
   ]
  },
  {
   "cell_type": "code",
   "execution_count": null,
   "metadata": {},
   "outputs": [],
   "source": [
    "k = 6.51 # slope endurance curve\n",
    "B = 800.26 # endurance curve\n",
    "km = 1/ (6 * 2 * 10**(-9))  # Calibration Factor [Pa^-1]"
   ]
  },
  {
   "cell_type": "markdown",
   "metadata": {},
   "source": [
    "## Computation"
   ]
  },
  {
   "cell_type": "code",
   "execution_count": null,
   "metadata": {},
   "outputs": [],
   "source": [
    "data = sfmov.get_data(filename)\n",
    "N = data.shape[0]\n",
    "\n",
    "stress = (data - data[0,:,:]) * km * 10**-6 # stress amplitude in MPa\n",
    "fft = (np.fft.rfft(stress, N-1, axis=0) * 2 / (N - 1))[:, y:(y+h), x:(x+w)]\n",
    "freq = np.fft.rfftfreq(N-1, 1/fs)\n",
    "fft_avg = np.abs(np.mean(fft, axis = (1,2)))\n",
    "\n",
    "y_peak = np.max(fft_avg[(freq > treshold_fft[0]) & (freq < treshold_fft[1])])\n",
    "x_peak = freq[np.where(fft_avg == y_peak)[0][0]]\n",
    "\n",
    "amplitude = np.mean(fft_avg[(freq >= x_peak-span_fft) & (freq <= x_peak+span_fft)])\n",
    "\n",
    "C = B**k  # s = B * N**bas or s^k * N = C\n",
    "D = x_peak / (C / amplitude**k)\n",
    "D"
   ]
  },
  {
   "cell_type": "markdown",
   "metadata": {},
   "source": [
    "## Endurance curve"
   ]
  },
  {
   "cell_type": "code",
   "execution_count": null,
   "metadata": {},
   "outputs": [],
   "source": [
    "N = np.linspace(1,10**8,10**8)\n",
    "s = B * N**bas\n",
    "\n",
    "plt.semilogx(N,s)\n",
    "plt.grid()\n",
    "plt.xlabel('Cycles [Log(N)]')\n",
    "plt.ylabel('Stress amplitude [MPa]')\n",
    "plt.title('Endurance curve')"
   ]
  },
  {
   "cell_type": "markdown",
   "metadata": {},
   "source": [
    "## FFT and Natural frequency\n"
   ]
  },
  {
   "cell_type": "code",
   "execution_count": null,
   "metadata": {},
   "outputs": [],
   "source": [
    "plt.figure()\n",
    "plt.semilogy(freq,fft_avg[0,:], c = 'C0')\n",
    "plt.grid()\n",
    "plt.scatter(x_peak, y_peak,s = 100, c='C3', marker = 'o')\n",
    "plt.xlabel('Frequency [Hz]')\n",
    "plt.ylabel('Amplitude [MPa]')\n",
    "plt.title('FFT')"
   ]
  }
 ],
 "metadata": {
  "kernelspec": {
   "display_name": "Python 3",
   "language": "python",
   "name": "python3"
  },
  "language_info": {
   "codemirror_mode": {
    "name": "ipython",
    "version": 3
   },
   "file_extension": ".py",
   "mimetype": "text/x-python",
   "name": "python",
   "nbconvert_exporter": "python",
   "pygments_lexer": "ipython3",
   "version": "3.7.6"
  }
 },
 "nbformat": 4,
 "nbformat_minor": 4
}
