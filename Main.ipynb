{
 "cells": [
  {
   "cell_type": "markdown",
   "metadata": {},
   "source": [
    "# Thermoelasticity-based modal damage identification"
   ]
  },
  {
   "cell_type": "markdown",
   "metadata": {},
   "source": [
    "## Import packages"
   ]
  },
  {
   "cell_type": "code",
   "execution_count": 158,
   "metadata": {},
   "outputs": [],
   "source": [
    "import numpy as np\n",
    "import matplotlib.pyplot as plt\n",
    "import pyLIA as lia\n",
    "import pysfmov as sfmov"
   ]
  },
  {
   "cell_type": "markdown",
   "metadata": {},
   "source": [
    "## Input parameters"
   ]
  },
  {
   "cell_type": "markdown",
   "metadata": {},
   "source": [
    "### Thermal video"
   ]
  },
  {
   "cell_type": "code",
   "execution_count": 185,
   "metadata": {},
   "outputs": [],
   "source": [
    "filename = './data/rec44.sfmov'\n",
    "fs = 400\n",
    "(x,y,w,h) = 38,78,5,5 #vert mode area\n",
    "min_treshold_fft = 10 # HZ\n",
    "max_treshold_fft = 40 # HZ\n",
    "span_fft = 0.1"
   ]
  },
  {
   "cell_type": "markdown",
   "metadata": {},
   "source": [
    "### Material"
   ]
  },
  {
   "cell_type": "code",
   "execution_count": 160,
   "metadata": {},
   "outputs": [],
   "source": [
    "k = 6.51 # slope endurance curve\n",
    "B = 800.26 # endurance curve\n",
    "km = 1/ (6 * 2 * 10**(-9))  # Calibration Factor [Pa^-1]"
   ]
  },
  {
   "cell_type": "markdown",
   "metadata": {},
   "source": [
    "## Starting"
   ]
  },
  {
   "cell_type": "code",
   "execution_count": 161,
   "metadata": {},
   "outputs": [],
   "source": [
    "data = sfmov.get_data(filename)"
   ]
  },
  {
   "cell_type": "code",
   "execution_count": 162,
   "metadata": {},
   "outputs": [],
   "source": [
    "nframes = data.shape[0]\n",
    "dt = 1/fs\n",
    "time = np.linspace(0,nframes/fs, nframes, endpoint=True)\n",
    "\n",
    "bas = -1/k\n",
    "C = B**k  # s = B * N**bas or s^k * N = C"
   ]
  },
  {
   "cell_type": "code",
   "execution_count": 163,
   "metadata": {},
   "outputs": [],
   "source": [
    "stress_ampl = (data - data[0,:,:]) * km * 10**-6 # stress amplitude in MPa"
   ]
  },
  {
   "cell_type": "markdown",
   "metadata": {},
   "source": [
    "## FFT"
   ]
  },
  {
   "cell_type": "code",
   "execution_count": 164,
   "metadata": {},
   "outputs": [],
   "source": [
    "fft = (np.fft.rfft(stress_ampl, nframes-1, axis=0) *2/(nframes - 1))[:,y:(y+h),x:(x+w)]\n",
    "freq = np.fft.rfftfreq(nframes-1, 1/fs)\n",
    "\n",
    "fft_avg = np.zeros((1,fft.shape[0]))\n",
    "for p in range(0,len(freq)):\n",
    "    fft_avg[0,p] = np.mean(np.abs(fft[p,:,:]))"
   ]
  },
  {
   "cell_type": "code",
   "execution_count": 186,
   "metadata": {},
   "outputs": [],
   "source": [
    "y_peak = np.max(fft_avg[0,:][(freq > min_treshold_fft) & (freq < max_treshold_fft)])\n",
    "x_peak = freq[np.where(fft_avg[0,:] == y_peak)[0][0]]"
   ]
  },
  {
   "cell_type": "code",
   "execution_count": 188,
   "metadata": {},
   "outputs": [],
   "source": [
    "band = (freq>=x_peak-span_fft)&(freq<=x_peak+span_fft)\n",
    "A = np.mean(fft_avg[0,band])\n",
    "\n",
    "D = x_peak / (C / A**k)"
   ]
  },
  {
   "cell_type": "markdown",
   "metadata": {},
   "source": [
    "## Endurance curve"
   ]
  },
  {
   "cell_type": "code",
   "execution_count": 179,
   "metadata": {},
   "outputs": [
    {
     "data": {
      "text/plain": [
       "Text(0.5, 1.0, 'Endurance curve')"
      ]
     },
     "execution_count": 179,
     "metadata": {},
     "output_type": "execute_result"
    },
    {
     "data": {
      "image/png": "[encoded data removed]",
      "text/plain": [
       "<Figure size 432x288 with 1 Axes>"
      ]
     },
     "metadata": {
      "needs_background": "light"
     },
     "output_type": "display_data"
    }
   ],
   "source": [
    "N = np.linspace(1,10**8,10**8)\n",
    "s = B * N**bas\n",
    "\n",
    "plt.semilogx(N,s)\n",
    "plt.grid()\n",
    "plt.xlabel('Cycles [Log(N)]')\n",
    "plt.ylabel('Stress amplitude [MPa]')\n",
    "plt.title('Endurance curve')"
   ]
  },
  {
   "cell_type": "markdown",
   "metadata": {},
   "source": [
    "## FFT and Natural frequency\n"
   ]
  },
  {
   "cell_type": "code",
   "execution_count": null,
   "metadata": {},
   "outputs": [],
   "source": [
    "plt.figure()\n",
    "plt.semilogy(freq,fft_avg[0,:], c = 'C0')\n",
    "plt.grid()\n",
    "plt.scatter(x_peak, y_peak,s = 100, c='C3', marker = 'o')\n",
    "plt.xlabel('Frequency [Hz]')\n",
    "plt.ylabel('Amplitude [MPa]')\n",
    "plt.title('FFT')"
   ]
  }
 ],
 "metadata": {
  "kernelspec": {
   "display_name": "Python 3",
   "language": "python",
   "name": "python3"
  },
  "language_info": {
   "codemirror_mode": {
    "name": "ipython",
    "version": 3
   },
   "file_extension": ".py",
   "mimetype": "text/x-python",
   "name": "python",
   "nbconvert_exporter": "python",
   "pygments_lexer": "ipython3",
   "version": "3.7.6"
  }
 },
 "nbformat": 4,
 "nbformat_minor": 4
}
