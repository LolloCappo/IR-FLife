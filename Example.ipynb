{
 "cells": [
  {
   "cell_type": "markdown",
   "metadata": {},
   "source": [
    "# Thermoelasticity-based fatigue life identification"
   ]
  },
  {
   "cell_type": "markdown",
   "metadata": {},
   "source": [
    "## Install package via pip"
   ]
  },
  {
   "cell_type": "code",
   "execution_count": null,
   "metadata": {},
   "outputs": [],
   "source": [
    "pip install IRFlife"
   ]
  },
  {
   "cell_type": "markdown",
   "metadata": {},
   "source": [
    "## Import packages"
   ]
  },
  {
   "cell_type": "code",
   "execution_count": 1,
   "metadata": {},
   "outputs": [],
   "source": [
    "import numpy as np\n",
    "import matplotlib.pyplot as plt\n",
    "import pysfmov as sfmov\n",
    "import IRFLife"
   ]
  },
  {
   "cell_type": "markdown",
   "metadata": {},
   "source": [
    "## Material parameters"
   ]
  },
  {
   "cell_type": "code",
   "execution_count": 2,
   "metadata": {},
   "outputs": [],
   "source": [
    "k = 6.51               # Slope endurance curve\n",
    "B = 800.26             # Endurance curve limit [MPa]\n",
    "C = 7.94 * 10**18      # Fatigue strenght [MPa**k]\n",
    "km = 1.2 * 10**(-8)    # Thermoelastic coefficient [Pa**(-1)]"
   ]
  },
  {
   "cell_type": "markdown",
   "metadata": {},
   "source": [
    "## Input thermal video"
   ]
  },
  {
   "cell_type": "code",
   "execution_count": 3,
   "metadata": {},
   "outputs": [],
   "source": [
    "filename = './data/rec.sfmov'        # Filename of thermal acquisition\n",
    "data = sfmov.get_data(filename)      # Using pysfmov to open it as numpy array [°C]\n",
    "\n",
    "fs = 400                             # Smapling frequency [Hz]\n",
    "dt = 1 / fs                          # Time step [s]\n",
    "\n",
    "stress = 10 * (data / km ) * 10**-6  # Stress [MPa]"
   ]
  },
  {
   "cell_type": "markdown",
   "metadata": {},
   "source": [
    "## Class initialization"
   ]
  },
  {
   "cell_type": "code",
   "execution_count": 4,
   "metadata": {},
   "outputs": [],
   "source": [
    "td =  IRFLife(stress, dt)        # Class initialization"
   ]
  },
  {
   "cell_type": "markdown",
   "metadata": {},
   "source": [
    "### Natural frequency identification from thermal video"
   ]
  },
  {
   "cell_type": "markdown",
   "metadata": {},
   "source": [
    "#### If the location is picked with the mouse click"
   ]
  },
  {
   "cell_type": "code",
   "execution_count": 5,
   "metadata": {},
   "outputs": [],
   "source": [
    "%matplotlib qt               \n",
    "td.loc_selection()           # Mouse selection of central pixel of the roi"
   ]
  },
  {
   "cell_type": "code",
   "execution_count": 6,
   "metadata": {},
   "outputs": [],
   "source": [
    "f = td.nf_identification()   # Natural frequency identification"
   ]
  },
  {
   "cell_type": "markdown",
   "metadata": {},
   "source": [
    "#### If the location is settled with roi coordinates"
   ]
  },
  {
   "cell_type": "code",
   "execution_count": null,
   "metadata": {},
   "outputs": [],
   "source": [
    "band_pass = [5,100]         # Band pass filter applied during the natural frequency identification\n",
    "roi_size = 5                # ROI size [pixel]\n",
    "location = (39, 79, 5, 5)   # Location of interest in the field of view [pixel]\n",
    "\n",
    "f = td.nf_identification(location = location, roi_size = roi_size, band_pass = band_pass)"
   ]
  },
  {
   "cell_type": "markdown",
   "metadata": {},
   "source": [
    "## Fatigue life estimation"
   ]
  },
  {
   "cell_type": "markdown",
   "metadata": {},
   "source": [
    "#### If the fatigue life is wanted at a particular location"
   ]
  },
  {
   "cell_type": "code",
   "execution_count": 7,
   "metadata": {},
   "outputs": [],
   "source": [
    "location = (39, 79, 5, 5)   # Location of interest in the field of view [pixel]"
   ]
  },
  {
   "cell_type": "code",
   "execution_count": 10,
   "metadata": {},
   "outputs": [
    {
     "name": "stderr",
     "output_type": "stream",
     "text": [
      "100%|████████████████████████████████████████████████████████████████████████████████| 25/25 [00:00<00:00, 3822.18it/s]\n",
      "100%|████████████████████████████████████████████████████████████████████████████████| 25/25 [00:00<00:00, 1562.05it/s]\n",
      "100%|████████████████████████████████████████████████████████████████████████████████| 25/25 [00:00<00:00, 1559.94it/s]\n",
      "100%|█████████████████████████████████████████████████████████████████████████████████| 25/25 [00:00<00:00, 781.98it/s]\n"
     ]
    }
   ],
   "source": [
    "md = td.get_life(C, k, 'Modal', f = f, location = location)\n",
    "tb = td.get_life(C, k, 'TovoBenasciutti', location = location)\n",
    "dk = td.get_life(C, k, 'Dirlik', location = location)\n",
    "rf = td.get_life(C, k, 'Rainflow', location = location)"
   ]
  },
  {
   "cell_type": "code",
   "execution_count": 11,
   "metadata": {},
   "outputs": [
    {
     "name": "stdout",
     "output_type": "stream",
     "text": [
      "          Rainflow: 44125 s\n",
      "            Dirlik: 33250 s\n",
      "  Tovo-Benasciutti: 35668 s\n",
      "             Modal: 8279399575 s\n"
     ]
    }
   ],
   "source": [
    "print(f'          Rainflow: {rf:4.0f} s')\n",
    "print(f'            Dirlik: {dk:4.0f} s')\n",
    "print(f'  Tovo-Benasciutti: {tb:4.0f} s')\n",
    "print(f'             Modal: {md:4.0f} s')"
   ]
  },
  {
   "cell_type": "markdown",
   "metadata": {},
   "source": [
    "#### If the fatigue life is wanted even in the spatial domain"
   ]
  },
  {
   "cell_type": "code",
   "execution_count": 12,
   "metadata": {},
   "outputs": [
    {
     "name": "stderr",
     "output_type": "stream",
     "text": [
      "100%|█████████████████████████████████████████████████████████████████████████| 20480/20480 [00:00<00:00, 26882.72it/s]\n",
      "100%|██████████████████████████████████████████████████████████████████████████| 20480/20480 [00:09<00:00, 2248.52it/s]\n",
      "100%|██████████████████████████████████████████████████████████████████████████| 20480/20480 [00:09<00:00, 2228.49it/s]\n",
      "100%|██████████████████████████████████████████████████████████████████████████| 20480/20480 [00:18<00:00, 1119.10it/s]\n"
     ]
    }
   ],
   "source": [
    "md = td.get_life(C, k, 'Modal', f = f)\n",
    "tb = td.get_life(C, k, 'TovoBenasciutti')\n",
    "dk = td.get_life(C, k, 'Dirlik')\n",
    "rf = td.get_life(C, k, 'Rainflow')"
   ]
  },
  {
   "cell_type": "code",
   "execution_count": 13,
   "metadata": {},
   "outputs": [
    {
     "data": {
      "text/plain": [
       "Text(0.5, 1.0, 'Tovo-Benasciutti')"
      ]
     },
     "execution_count": 13,
     "metadata": {},
     "output_type": "execute_result"
    }
   ],
   "source": [
    "plt.figure()\n",
    "\n",
    "plt.subplot(2,2,1)\n",
    "plt.imshow(dk)\n",
    "plt.colorbar()\n",
    "plt.title('Dirlik')\n",
    "\n",
    "plt.subplot(2,2,2)\n",
    "plt.imshow(md)\n",
    "plt.colorbar()\n",
    "plt.title('Modal approach')\n",
    "\n",
    "plt.subplot(2,2,3)\n",
    "plt.imshow(rf)\n",
    "plt.colorbar()\n",
    "plt.title('Rainflow')\n",
    "\n",
    "plt.subplot(2,2,4)\n",
    "plt.imshow(tb)\n",
    "plt.colorbar()\n",
    "plt.title('Tovo-Benasciutti')"
   ]
  },
  {
   "cell_type": "code",
   "execution_count": null,
   "metadata": {},
   "outputs": [],
   "source": []
  }
 ],
 "metadata": {
  "kernelspec": {
   "display_name": "Python 3",
   "language": "python",
   "name": "python3"
  },
  "language_info": {
   "codemirror_mode": {
    "name": "ipython",
    "version": 3
   },
   "file_extension": ".py",
   "mimetype": "text/x-python",
   "name": "python",
   "nbconvert_exporter": "python",
   "pygments_lexer": "ipython3",
   "version": "3.7.6"
  }
 },
 "nbformat": 4,
 "nbformat_minor": 4
}
